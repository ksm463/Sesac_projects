{
 "cells": [
  {
   "cell_type": "code",
   "execution_count": 1,
   "id": "69987304-e4e5-434a-8d07-931aa1ee9aa4",
   "metadata": {
    "tags": []
   },
   "outputs": [
    {
     "ename": "ModuleNotFoundError",
     "evalue": "No module named 'pyproj'",
     "output_type": "error",
     "traceback": [
      "\u001b[1;31m---------------------------------------------------------------------------\u001b[0m",
      "\u001b[1;31mModuleNotFoundError\u001b[0m                       Traceback (most recent call last)",
      "\u001b[1;32m~\\AppData\\Local\\Temp\\ipykernel_6032\\976406813.py\u001b[0m in \u001b[0;36m<module>\u001b[1;34m\u001b[0m\n\u001b[0;32m     19\u001b[0m \u001b[1;32mimport\u001b[0m \u001b[0mplotly\u001b[0m\u001b[1;33m.\u001b[0m\u001b[0mexpress\u001b[0m \u001b[1;32mas\u001b[0m \u001b[0mpx\u001b[0m\u001b[1;33m\u001b[0m\u001b[1;33m\u001b[0m\u001b[0m\n\u001b[0;32m     20\u001b[0m \u001b[1;32mimport\u001b[0m \u001b[0mplotly\u001b[0m\u001b[1;33m.\u001b[0m\u001b[0mgraph_objects\u001b[0m \u001b[1;32mas\u001b[0m \u001b[0mgo\u001b[0m\u001b[1;33m\u001b[0m\u001b[1;33m\u001b[0m\u001b[0m\n\u001b[1;32m---> 21\u001b[1;33m \u001b[1;32mimport\u001b[0m \u001b[0mpyproj\u001b[0m\u001b[1;33m\u001b[0m\u001b[1;33m\u001b[0m\u001b[0m\n\u001b[0m\u001b[0;32m     22\u001b[0m \u001b[1;32mimport\u001b[0m \u001b[0mbar_chart_race\u001b[0m \u001b[1;32mas\u001b[0m \u001b[0mbcr\u001b[0m\u001b[1;33m\u001b[0m\u001b[1;33m\u001b[0m\u001b[0m\n\u001b[0;32m     23\u001b[0m \u001b[1;32mfrom\u001b[0m \u001b[0mPIL\u001b[0m \u001b[1;32mimport\u001b[0m \u001b[0mImage\u001b[0m\u001b[1;33m\u001b[0m\u001b[1;33m\u001b[0m\u001b[0m\n",
      "\u001b[1;31mModuleNotFoundError\u001b[0m: No module named 'pyproj'"
     ]
    }
   ],
   "source": [
    "import glob\n",
    "import pandas as pd\n",
    "import numpy as np\n",
    "import matplotlib.pyplot as plt\n",
    "import warnings\n",
    "warnings.filterwarnings('ignore')\n",
    "import numpy as np\n",
    "from numpy import NaN, NAN, nan\n",
    "import requests\n",
    "import json\n",
    "import folium\n",
    "from folium.plugins import MarkerCluster\n",
    "import pandas as pd\n",
    "import re\n",
    "%matplotlib inline\n",
    "import matplotlib\n",
    "import matplotlib.pyplot as plt\n",
    "import seaborn as sns\n",
    "import plotly.express as px\n",
    "import plotly.graph_objects as go\n",
    "import pyproj\n",
    "import bar_chart_race as bcr\n",
    "from PIL import Image"
   ]
  },
  {
   "cell_type": "code",
   "execution_count": null,
   "id": "671f56ac-9a9d-4cfd-811a-7ab333563b4b",
   "metadata": {},
   "outputs": [],
   "source": [
    "df = pd.read_csv('final_season.csv',encoding='cp949')"
   ]
  },
  {
   "cell_type": "code",
   "execution_count": null,
   "id": "196c93e8-207f-4abd-bc30-88e730b41be4",
   "metadata": {},
   "outputs": [],
   "source": [
    "df.columns"
   ]
  },
  {
   "cell_type": "code",
   "execution_count": null,
   "id": "364aa9f5-e4b4-416c-850a-f825f7f1cb50",
   "metadata": {},
   "outputs": [],
   "source": [
    "df.head(2)"
   ]
  },
  {
   "cell_type": "markdown",
   "id": "037878e7-ccf1-4ce8-98a7-cc1fcaec5c55",
   "metadata": {},
   "source": [
    "# bar chart race"
   ]
  },
  {
   "cell_type": "code",
   "execution_count": null,
   "id": "d75e3428-fca7-480d-9bbc-63d7bb9adac6",
   "metadata": {},
   "outputs": [],
   "source": [
    "ton =df[['년','지역','생산량 (톤)']]"
   ]
  },
  {
   "cell_type": "code",
   "execution_count": null,
   "id": "a540b095-a360-4266-9816-c29e11c3cbd0",
   "metadata": {
    "tags": []
   },
   "outputs": [],
   "source": [
    "ton"
   ]
  },
  {
   "cell_type": "code",
   "execution_count": null,
   "id": "1f03c023-0493-4ea6-a3e2-e954831555ff",
   "metadata": {},
   "outputs": [],
   "source": [
    "ton = pd.pivot_table(ton,values='생산량 (톤)',index='년',columns='지역')"
   ]
  },
  {
   "cell_type": "code",
   "execution_count": null,
   "id": "4b77eec5-b2f8-47a4-869c-30f7bbe8162a",
   "metadata": {},
   "outputs": [],
   "source": [
    "ton = ton.fillna(0)"
   ]
  },
  {
   "cell_type": "code",
   "execution_count": null,
   "id": "cd870a08-d1b8-467a-977d-fb3e5458429f",
   "metadata": {},
   "outputs": [],
   "source": [
    "ton.iloc[:] = ton.iloc[:].cumsum()"
   ]
  },
  {
   "cell_type": "code",
   "execution_count": null,
   "id": "817d0d95-1360-4316-9fa4-a01c9474685b",
   "metadata": {
    "tags": []
   },
   "outputs": [],
   "source": [
    "ton"
   ]
  },
  {
   "cell_type": "code",
   "execution_count": null,
   "id": "9389bbf6-18b2-4006-9a4b-68c0cb19fc1e",
   "metadata": {
    "tags": []
   },
   "outputs": [],
   "source": [
    "bcr.bar_chart_race(df = ton,period_length=250,\n",
    "                   n_bars = 8,\n",
    "                   figsize=(6, 4),\n",
    "                   sort='desc',\n",
    "                   title='지역별 사과생산량')"
   ]
  },
  {
   "cell_type": "markdown",
   "id": "17dac2db-39a9-4908-9c3e-49e9136ca30d",
   "metadata": {},
   "source": [
    "## 재배면적"
   ]
  },
  {
   "cell_type": "code",
   "execution_count": null,
   "id": "43305b55-d232-4f68-8281-0e5ff846e5d5",
   "metadata": {
    "tags": []
   },
   "outputs": [],
   "source": [
    "map = df[['년','지역','면적 (ha)']]\n",
    "map"
   ]
  },
  {
   "cell_type": "code",
   "execution_count": null,
   "id": "d85186a0-12d7-4205-b06e-faa2ff208f6c",
   "metadata": {},
   "outputs": [],
   "source": [
    "map = pd.pivot_table(map,values='면적 (ha)',index='년',columns='지역')"
   ]
  },
  {
   "cell_type": "code",
   "execution_count": null,
   "id": "269e6cd8-759e-47c2-9b8e-c0e372388c94",
   "metadata": {
    "tags": []
   },
   "outputs": [],
   "source": [
    "map"
   ]
  },
  {
   "cell_type": "code",
   "execution_count": null,
   "id": "5b6910f5-e389-48a4-9f8c-2a69cb5a3f8d",
   "metadata": {
    "tags": []
   },
   "outputs": [],
   "source": [
    "map = map.fillna(0)\n",
    "map"
   ]
  },
  {
   "cell_type": "code",
   "execution_count": null,
   "id": "7fec12f5-905c-47ef-9823-ba9bce3de3ea",
   "metadata": {
    "tags": []
   },
   "outputs": [],
   "source": [
    "bcr.bar_chart_race(df = map,\n",
    "                   period_length=250,\n",
    "                   n_bars = 8,\n",
    "                   figsize=(6, 4),\n",
    "                   sort='desc',\n",
    "                   title='연도별 재배면적 변화')"
   ]
  },
  {
   "cell_type": "markdown",
   "id": "4bbb2627-5ad8-4987-a8db-5cb0ac6c65b0",
   "metadata": {},
   "source": [
    "## 면적당 생산량"
   ]
  },
  {
   "cell_type": "code",
   "execution_count": null,
   "id": "40cf9cff-d3f1-40d8-94da-b54187cdacde",
   "metadata": {},
   "outputs": [],
   "source": [
    "fc =df[['년','지역','10a당 생산량 (kg)']]"
   ]
  },
  {
   "cell_type": "code",
   "execution_count": null,
   "id": "c4bd4b97-fcfe-483b-ac2e-7ac2a3b7bf6f",
   "metadata": {},
   "outputs": [],
   "source": [
    "fc = pd.pivot_table(fc,values='10a당 생산량 (kg)',index='년',columns='지역')"
   ]
  },
  {
   "cell_type": "code",
   "execution_count": null,
   "id": "592c6424-258d-4ad2-9afe-ad30eb1e516f",
   "metadata": {},
   "outputs": [],
   "source": [
    "fc = fc.fillna(0)"
   ]
  },
  {
   "cell_type": "code",
   "execution_count": null,
   "id": "e7556986-8040-46b9-a00b-02418180ea20",
   "metadata": {},
   "outputs": [],
   "source": [
    "fc.head(3)"
   ]
  },
  {
   "cell_type": "code",
   "execution_count": null,
   "id": "36690d30-2caa-4abc-8929-bba2cd4ed417",
   "metadata": {},
   "outputs": [],
   "source": [
    "fc.columns"
   ]
  },
  {
   "cell_type": "code",
   "execution_count": null,
   "id": "1b756b3b-e94e-4098-a2b2-78e4ee1b086c",
   "metadata": {
    "tags": []
   },
   "outputs": [],
   "source": [
    "bcr.bar_chart_race(df = fc,steps_per_period=60,period_length=300,\n",
    "                   n_bars = 8,\n",
    "                   figsize=(6, 4),\n",
    "                   title='연도별 재배면적당 생산량')"
   ]
  },
  {
   "cell_type": "markdown",
   "id": "9e216cf9-34b3-42bf-b7a7-44b7543caa5e",
   "metadata": {},
   "source": [
    "# 재배지 비율 파이"
   ]
  },
  {
   "cell_type": "code",
   "execution_count": null,
   "id": "874fdb43-22ac-4a48-9211-934ba231d793",
   "metadata": {},
   "outputs": [],
   "source": [
    "year = 2021\n",
    "po = df[df['년']==year]\n",
    "po = po[['년','지역','면적 (ha)']]\n",
    "po1 = po['면적 (ha)'].nlargest(8)\n",
    "labelpo = po.loc[po1.index,'지역']\n",
    "colors=['r','g','tab:gray','m','tab:blue','olive','tab:pink']\n",
    "ratio = po1\n",
    "labels = labelpo\n",
    "wedgeprops={'width': 0.7, 'edgecolor': 'w', 'linewidth': 5}\n",
    "plt.title(f'{year}년 재배지 비율')\n",
    "plt.pie(ratio, labels=labels, autopct='%.1f%%',wedgeprops=wedgeprops,colors=colors)\n",
    "# plt.legend(loc='upper left')\n",
    "plt.show()"
   ]
  },
  {
   "cell_type": "code",
   "execution_count": null,
   "id": "0b974987-69f3-4a41-aedb-ad0be9c47a50",
   "metadata": {},
   "outputs": [],
   "source": []
  }
 ],
 "metadata": {
  "kernelspec": {
   "display_name": "Python 3 (ipykernel)",
   "language": "python",
   "name": "python3"
  },
  "language_info": {
   "codemirror_mode": {
    "name": "ipython",
    "version": 3
   },
   "file_extension": ".py",
   "mimetype": "text/x-python",
   "name": "python",
   "nbconvert_exporter": "python",
   "pygments_lexer": "ipython3",
   "version": "3.9.13"
  }
 },
 "nbformat": 4,
 "nbformat_minor": 5
}
