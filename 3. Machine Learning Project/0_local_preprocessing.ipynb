{
 "cells": [
  {
   "cell_type": "code",
   "execution_count": 1,
   "id": "5796620b-2969-4f71-b173-99329dcc7605",
   "metadata": {},
   "outputs": [],
   "source": [
    "import glob\n",
    "import pandas as pd\n",
    "import numpy as np\n",
    "import matplotlib.pyplot as plt\n",
    "import seaborn as sns"
   ]
  },
  {
   "cell_type": "markdown",
   "id": "9fa7b97a-e9ce-4d3e-bd09-1a4db8d8ba0a",
   "metadata": {
    "tags": []
   },
   "source": [
    "# 사과 전처리"
   ]
  },
  {
   "cell_type": "code",
   "execution_count": 2,
   "id": "8f8b1cc9-c05e-4b99-93d3-6eea7ec79659",
   "metadata": {},
   "outputs": [],
   "source": [
    "tmp = pd.read_csv('data/loc/gyeongbuk/2apple/경주시_사과_2011~2019.csv', encoding='cp949', skiprows=2)"
   ]
  },
  {
   "cell_type": "code",
   "execution_count": 3,
   "id": "07e75986-203c-4a2f-a327-2f3ecba07fc4",
   "metadata": {},
   "outputs": [],
   "source": [
    "tmp['대지역'] = '경상북도'\n",
    "tmp['소지역'] = '경산시'"
   ]
  },
  {
   "cell_type": "code",
   "execution_count": 4,
   "id": "281207eb-4d1f-49f5-87aa-c0e388a3c842",
   "metadata": {},
   "outputs": [],
   "source": [
    "tmp = tmp[['시점', '대지역', '소지역', '면적 (ha)', '생산량 (M/T)', '단위생산량 (kg/10a)']]"
   ]
  },
  {
   "cell_type": "code",
   "execution_count": 5,
   "id": "046ce13a-d8c6-4610-8e32-e7e5dc9cb072",
   "metadata": {
    "tags": []
   },
   "outputs": [
    {
     "data": {
      "text/html": [
       "<div>\n",
       "<style scoped>\n",
       "    .dataframe tbody tr th:only-of-type {\n",
       "        vertical-align: middle;\n",
       "    }\n",
       "\n",
       "    .dataframe tbody tr th {\n",
       "        vertical-align: top;\n",
       "    }\n",
       "\n",
       "    .dataframe thead th {\n",
       "        text-align: right;\n",
       "    }\n",
       "</style>\n",
       "<table border=\"1\" class=\"dataframe\">\n",
       "  <thead>\n",
       "    <tr style=\"text-align: right;\">\n",
       "      <th></th>\n",
       "      <th>시점</th>\n",
       "      <th>대지역</th>\n",
       "      <th>소지역</th>\n",
       "      <th>면적 (ha)</th>\n",
       "      <th>생산량 (M/T)</th>\n",
       "      <th>단위생산량 (kg/10a)</th>\n",
       "    </tr>\n",
       "  </thead>\n",
       "  <tbody>\n",
       "    <tr>\n",
       "      <th>0</th>\n",
       "      <td>2012</td>\n",
       "      <td>경상북도</td>\n",
       "      <td>경산시</td>\n",
       "      <td>239.0</td>\n",
       "      <td>4507.0</td>\n",
       "      <td>1895.0</td>\n",
       "    </tr>\n",
       "    <tr>\n",
       "      <th>1</th>\n",
       "      <td>2013</td>\n",
       "      <td>경상북도</td>\n",
       "      <td>경산시</td>\n",
       "      <td>239.0</td>\n",
       "      <td>4630.0</td>\n",
       "      <td>1946.0</td>\n",
       "    </tr>\n",
       "    <tr>\n",
       "      <th>2</th>\n",
       "      <td>2014</td>\n",
       "      <td>경상북도</td>\n",
       "      <td>경산시</td>\n",
       "      <td>239.0</td>\n",
       "      <td>4629.0</td>\n",
       "      <td>1946.0</td>\n",
       "    </tr>\n",
       "    <tr>\n",
       "      <th>3</th>\n",
       "      <td>2015</td>\n",
       "      <td>경상북도</td>\n",
       "      <td>경산시</td>\n",
       "      <td>239.0</td>\n",
       "      <td>4675.0</td>\n",
       "      <td>1955.0</td>\n",
       "    </tr>\n",
       "    <tr>\n",
       "      <th>4</th>\n",
       "      <td>2016</td>\n",
       "      <td>경상북도</td>\n",
       "      <td>경산시</td>\n",
       "      <td>240.0</td>\n",
       "      <td>4678.0</td>\n",
       "      <td>1946.0</td>\n",
       "    </tr>\n",
       "    <tr>\n",
       "      <th>5</th>\n",
       "      <td>2017</td>\n",
       "      <td>경상북도</td>\n",
       "      <td>경산시</td>\n",
       "      <td>240.0</td>\n",
       "      <td>4595.0</td>\n",
       "      <td>1915.0</td>\n",
       "    </tr>\n",
       "    <tr>\n",
       "      <th>6</th>\n",
       "      <td>2018</td>\n",
       "      <td>경상북도</td>\n",
       "      <td>경산시</td>\n",
       "      <td>250.0</td>\n",
       "      <td>4600.0</td>\n",
       "      <td>1920.0</td>\n",
       "    </tr>\n",
       "    <tr>\n",
       "      <th>7</th>\n",
       "      <td>2019</td>\n",
       "      <td>경상북도</td>\n",
       "      <td>경산시</td>\n",
       "      <td>250.0</td>\n",
       "      <td>3420.0</td>\n",
       "      <td>1368.0</td>\n",
       "    </tr>\n",
       "  </tbody>\n",
       "</table>\n",
       "</div>"
      ],
      "text/plain": [
       "     시점   대지역  소지역  면적 (ha)  생산량 (M/T)  단위생산량 (kg/10a)\n",
       "0  2012  경상북도  경산시    239.0     4507.0          1895.0\n",
       "1  2013  경상북도  경산시    239.0     4630.0          1946.0\n",
       "2  2014  경상북도  경산시    239.0     4629.0          1946.0\n",
       "3  2015  경상북도  경산시    239.0     4675.0          1955.0\n",
       "4  2016  경상북도  경산시    240.0     4678.0          1946.0\n",
       "5  2017  경상북도  경산시    240.0     4595.0          1915.0\n",
       "6  2018  경상북도  경산시    250.0     4600.0          1920.0\n",
       "7  2019  경상북도  경산시    250.0     3420.0          1368.0"
      ]
     },
     "execution_count": 5,
     "metadata": {},
     "output_type": "execute_result"
    }
   ],
   "source": [
    "tmp"
   ]
  },
  {
   "cell_type": "code",
   "execution_count": 6,
   "id": "46855765-17cb-41f2-aa0d-246030f0d9fc",
   "metadata": {
    "tags": []
   },
   "outputs": [
    {
     "data": {
      "text/plain": [
       "<AxesSubplot:xlabel='시점', ylabel='단위생산량 (kg/10a)'>"
      ]
     },
     "execution_count": 6,
     "metadata": {},
     "output_type": "execute_result"
    },
    {
     "data": {
      "image/png": "[encoded data removed]",
      "text/plain": [
       "<Figure size 640x480 with 1 Axes>"
      ]
     },
     "metadata": {},
     "output_type": "display_data"
    }
   ],
   "source": [
    "sns.barplot(x=tmp['시점'], y=tmp['단위생산량 (kg/10a)'], data=tmp)"
   ]
  },
  {
   "cell_type": "markdown",
   "id": "ed44ea6c-a0dc-4cfc-a7fb-7fcdcf720c89",
   "metadata": {
    "tags": []
   },
   "source": [
    "## 통합처리 - 경북"
   ]
  },
  {
   "cell_type": "code",
   "execution_count": 7,
   "id": "82b40191-7592-4a47-a0ce-4575bca32ce5",
   "metadata": {},
   "outputs": [],
   "source": [
    "csvfiles = glob.glob('data/loc/gyeongbuk/2apple/*.csv')\n",
    "\n",
    "kb_apple = pd.DataFrame()\n",
    "loc = ['경주시', '구미시', '군위군', '김천시', '문경시', '봉화군', '상주시',\n",
    "       '성주군', '안동시', '영덕군', '영양군', '영주시', '영천시', '예천군',\n",
    "       '울진군', '의성군', '청도군', '청송군', '청송군', '칠곡군', '포항시']\n",
    "\n",
    "for idx, csvfile in enumerate(csvfiles):\n",
    "    tmp = pd.read_csv(csvfile, encoding='cp949', skiprows=2)\n",
    "    tmp['대지역'] = '경상북도'\n",
    "    tmp['소지역'] = loc[idx]\n",
    "    tmp.rename(columns={'시점':'년'}, inplace=True)\n",
    "    tmp = tmp[['년', '대지역', '소지역', '면적 (ha)', '생산량 (M/T)', '단위생산량 (kg/10a)']]\n",
    "    kb_apple = pd.concat([kb_apple, tmp])\n",
    "    \n",
    "kb_apple.reset_index(drop=True, inplace=True)"
   ]
  },
  {
   "cell_type": "code",
   "execution_count": 8,
   "id": "2de7110b-8c0d-429e-8e7c-8336d8a99e00",
   "metadata": {},
   "outputs": [],
   "source": [
    "# 2010년 봉화군 춘양면 이상자료 삭제\n",
    "kb_apple.drop(kb_apple[(kb_apple['소지역'] == '봉화군') & (kb_apple['년'] == 2010)].index, inplace=True)"
   ]
  },
  {
   "cell_type": "markdown",
   "id": "66462dcb-d9b9-4398-a294-d3d8e142dcc6",
   "metadata": {},
   "source": [
    "## 통합처리 - 충북충남"
   ]
  },
  {
   "cell_type": "code",
   "execution_count": 9,
   "id": "21875f77-7e5d-4298-8cb5-11dcadf3c7f0",
   "metadata": {},
   "outputs": [],
   "source": [
    "csvfiles = glob.glob('data/loc/chung/2apple/*.csv')\n",
    "\n",
    "ch_apple = pd.DataFrame()\n",
    "loc1 = ['충청북도', '충청남도', '충청북도', '충청북도']\n",
    "loc2 = ['영동군', '예산군', '제천시', '충주시']\n",
    "\n",
    "for idx, csvfile in enumerate(csvfiles):\n",
    "    tmp = pd.read_csv(csvfile, encoding='cp949', skiprows=2)\n",
    "    tmp['대지역'] = loc1[idx]\n",
    "    tmp['소지역'] = loc2[idx]\n",
    "    tmp.rename(columns={'시점':'년'}, inplace=True)\n",
    "    tmp = tmp[['년', '대지역', '소지역', '면적 (ha)', '생산량 (M/T)', '단위생산량 (kg/10a)']]\n",
    "    ch_apple = pd.concat([ch_apple, tmp])\n",
    "\n",
    "kb_ch_apple = pd.concat([kb_apple, ch_apple])\n",
    "kb_ch_apple.reset_index(drop=True, inplace=True)"
   ]
  },
  {
   "cell_type": "code",
   "execution_count": 10,
   "id": "d058f42a-07c3-41e3-83b6-4649eb8bfcf2",
   "metadata": {},
   "outputs": [],
   "source": [
    "kb_ch_apple.to_csv('data/done/apple_loc.csv', encoding='cp949', index=False)"
   ]
  },
  {
   "cell_type": "code",
   "execution_count": 11,
   "id": "8e4ae0cf-2a00-435a-968c-c907c38bade3",
   "metadata": {
    "tags": []
   },
   "outputs": [
    {
     "data": {
      "text/html": [
       "<div>\n",
       "<style scoped>\n",
       "    .dataframe tbody tr th:only-of-type {\n",
       "        vertical-align: middle;\n",
       "    }\n",
       "\n",
       "    .dataframe tbody tr th {\n",
       "        vertical-align: top;\n",
       "    }\n",
       "\n",
       "    .dataframe thead th {\n",
       "        text-align: right;\n",
       "    }\n",
       "</style>\n",
       "<table border=\"1\" class=\"dataframe\">\n",
       "  <thead>\n",
       "    <tr style=\"text-align: right;\">\n",
       "      <th></th>\n",
       "      <th>년</th>\n",
       "      <th>대지역</th>\n",
       "      <th>소지역</th>\n",
       "      <th>면적 (ha)</th>\n",
       "      <th>생산량 (M/T)</th>\n",
       "      <th>단위생산량 (kg/10a)</th>\n",
       "    </tr>\n",
       "  </thead>\n",
       "  <tbody>\n",
       "    <tr>\n",
       "      <th>0</th>\n",
       "      <td>2012</td>\n",
       "      <td>경상북도</td>\n",
       "      <td>경주시</td>\n",
       "      <td>239.0</td>\n",
       "      <td>4507.0</td>\n",
       "      <td>1895.0</td>\n",
       "    </tr>\n",
       "    <tr>\n",
       "      <th>1</th>\n",
       "      <td>2013</td>\n",
       "      <td>경상북도</td>\n",
       "      <td>경주시</td>\n",
       "      <td>239.0</td>\n",
       "      <td>4630.0</td>\n",
       "      <td>1946.0</td>\n",
       "    </tr>\n",
       "    <tr>\n",
       "      <th>2</th>\n",
       "      <td>2014</td>\n",
       "      <td>경상북도</td>\n",
       "      <td>경주시</td>\n",
       "      <td>239.0</td>\n",
       "      <td>4629.0</td>\n",
       "      <td>1946.0</td>\n",
       "    </tr>\n",
       "    <tr>\n",
       "      <th>3</th>\n",
       "      <td>2015</td>\n",
       "      <td>경상북도</td>\n",
       "      <td>경주시</td>\n",
       "      <td>239.0</td>\n",
       "      <td>4675.0</td>\n",
       "      <td>1955.0</td>\n",
       "    </tr>\n",
       "    <tr>\n",
       "      <th>4</th>\n",
       "      <td>2016</td>\n",
       "      <td>경상북도</td>\n",
       "      <td>경주시</td>\n",
       "      <td>240.0</td>\n",
       "      <td>4678.0</td>\n",
       "      <td>1946.0</td>\n",
       "    </tr>\n",
       "    <tr>\n",
       "      <th>...</th>\n",
       "      <td>...</td>\n",
       "      <td>...</td>\n",
       "      <td>...</td>\n",
       "      <td>...</td>\n",
       "      <td>...</td>\n",
       "      <td>...</td>\n",
       "    </tr>\n",
       "    <tr>\n",
       "      <th>218</th>\n",
       "      <td>2016</td>\n",
       "      <td>충청북도</td>\n",
       "      <td>충주시</td>\n",
       "      <td>1894.7</td>\n",
       "      <td>32359.0</td>\n",
       "      <td>1708.0</td>\n",
       "    </tr>\n",
       "    <tr>\n",
       "      <th>219</th>\n",
       "      <td>2017</td>\n",
       "      <td>충청북도</td>\n",
       "      <td>충주시</td>\n",
       "      <td>1897.8</td>\n",
       "      <td>32747.0</td>\n",
       "      <td>1726.0</td>\n",
       "    </tr>\n",
       "    <tr>\n",
       "      <th>220</th>\n",
       "      <td>2018</td>\n",
       "      <td>충청북도</td>\n",
       "      <td>충주시</td>\n",
       "      <td>1870.0</td>\n",
       "      <td>32209.1</td>\n",
       "      <td>1722.0</td>\n",
       "    </tr>\n",
       "    <tr>\n",
       "      <th>221</th>\n",
       "      <td>2019</td>\n",
       "      <td>충청북도</td>\n",
       "      <td>충주시</td>\n",
       "      <td>1868.0</td>\n",
       "      <td>34081.0</td>\n",
       "      <td>1965.0</td>\n",
       "    </tr>\n",
       "    <tr>\n",
       "      <th>222</th>\n",
       "      <td>2020</td>\n",
       "      <td>충청북도</td>\n",
       "      <td>충주시</td>\n",
       "      <td>1415.0</td>\n",
       "      <td>23899.0</td>\n",
       "      <td>1689.0</td>\n",
       "    </tr>\n",
       "  </tbody>\n",
       "</table>\n",
       "<p>223 rows × 6 columns</p>\n",
       "</div>"
      ],
      "text/plain": [
       "        년   대지역  소지역  면적 (ha)  생산량 (M/T)  단위생산량 (kg/10a)\n",
       "0    2012  경상북도  경주시    239.0     4507.0          1895.0\n",
       "1    2013  경상북도  경주시    239.0     4630.0          1946.0\n",
       "2    2014  경상북도  경주시    239.0     4629.0          1946.0\n",
       "3    2015  경상북도  경주시    239.0     4675.0          1955.0\n",
       "4    2016  경상북도  경주시    240.0     4678.0          1946.0\n",
       "..    ...   ...  ...      ...        ...             ...\n",
       "218  2016  충청북도  충주시   1894.7    32359.0          1708.0\n",
       "219  2017  충청북도  충주시   1897.8    32747.0          1726.0\n",
       "220  2018  충청북도  충주시   1870.0    32209.1          1722.0\n",
       "221  2019  충청북도  충주시   1868.0    34081.0          1965.0\n",
       "222  2020  충청북도  충주시   1415.0    23899.0          1689.0\n",
       "\n",
       "[223 rows x 6 columns]"
      ]
     },
     "execution_count": 11,
     "metadata": {},
     "output_type": "execute_result"
    }
   ],
   "source": [
    "kb_ch_apple"
   ]
  },
  {
   "cell_type": "code",
   "execution_count": 12,
   "id": "042984a7-d6d1-420c-902a-e7053fa3a3c3",
   "metadata": {
    "collapsed": true,
    "jupyter": {
     "outputs_hidden": true
    },
    "tags": []
   },
   "outputs": [
    {
     "data": {
      "text/plain": [
       "(array([ 0,  1,  2,  3,  4,  5,  6,  7,  8,  9, 10, 11, 12, 13, 14, 15, 16,\n",
       "        17, 18, 19]),\n",
       " [Text(0, 0, '경주시'),\n",
       "  Text(1, 0, '구미시'),\n",
       "  Text(2, 0, '군위군'),\n",
       "  Text(3, 0, '김천시'),\n",
       "  Text(4, 0, '문경시'),\n",
       "  Text(5, 0, '봉화군'),\n",
       "  Text(6, 0, '상주시'),\n",
       "  Text(7, 0, '성주군'),\n",
       "  Text(8, 0, '안동시'),\n",
       "  Text(9, 0, '영덕군'),\n",
       "  Text(10, 0, '영양군'),\n",
       "  Text(11, 0, '영주시'),\n",
       "  Text(12, 0, '영천시'),\n",
       "  Text(13, 0, '예천군'),\n",
       "  Text(14, 0, '울진군'),\n",
       "  Text(15, 0, '의성군'),\n",
       "  Text(16, 0, '청도군'),\n",
       "  Text(17, 0, '청송군'),\n",
       "  Text(18, 0, '칠곡군'),\n",
       "  Text(19, 0, '포항시')])"
      ]
     },
     "execution_count": 12,
     "metadata": {},
     "output_type": "execute_result"
    },
    {
     "data": {
      "image/png": "[encoded data removed]",
      "text/plain": [
       "<Figure size 1500x500 with 1 Axes>"
      ]
     },
     "metadata": {},
     "output_type": "display_data"
    }
   ],
   "source": [
    "tmp_mean = kb_apple.groupby('소지역')['단위생산량 (kg/10a)'].mean().reset_index()\n",
    "\n",
    "plt.figure(figsize=(15, 5))\n",
    "sns.barplot(x=tmp_mean['소지역'], y=tmp_mean['단위생산량 (kg/10a)'], data=tmp_mean)\n",
    "plt.xticks(rotation=30)"
   ]
  },
  {
   "cell_type": "markdown",
   "id": "d3eda974-1f9e-4d1b-ade7-89383f4a4c2e",
   "metadata": {
    "jupyter": {
     "source_hidden": true
    },
    "tags": []
   },
   "source": [
    "# 날씨 전처리"
   ]
  },
  {
   "cell_type": "code",
   "execution_count": 13,
   "id": "79a41d66-454e-43c7-88ba-1c54d67e066e",
   "metadata": {},
   "outputs": [
    {
     "ename": "FileNotFoundError",
     "evalue": "[Errno 2] No such file or directory: 'data/loc/gyeongbuk/1weather/경주시_날씨_2011~2019.csv'",
     "output_type": "error",
     "traceback": [
      "\u001b[1;31m---------------------------------------------------------------------------\u001b[0m",
      "\u001b[1;31mFileNotFoundError\u001b[0m                         Traceback (most recent call last)",
      "\u001b[1;32m~\\AppData\\Local\\Temp\\ipykernel_536\\1091646289.py\u001b[0m in \u001b[0;36m<module>\u001b[1;34m\u001b[0m\n\u001b[1;32m----> 1\u001b[1;33m \u001b[0mtmp\u001b[0m \u001b[1;33m=\u001b[0m \u001b[0mpd\u001b[0m\u001b[1;33m.\u001b[0m\u001b[0mread_csv\u001b[0m\u001b[1;33m(\u001b[0m\u001b[1;34m'data/loc/gyeongbuk/1weather/경주시_날씨_2011~2019.csv'\u001b[0m\u001b[1;33m,\u001b[0m \u001b[0mencoding\u001b[0m\u001b[1;33m=\u001b[0m\u001b[1;34m'cp949'\u001b[0m\u001b[1;33m,\u001b[0m \u001b[0mheader\u001b[0m\u001b[1;33m=\u001b[0m\u001b[1;32mNone\u001b[0m\u001b[1;33m,\u001b[0m \u001b[0mskiprows\u001b[0m\u001b[1;33m=\u001b[0m\u001b[1;36m2\u001b[0m\u001b[1;33m)\u001b[0m\u001b[1;33m\u001b[0m\u001b[1;33m\u001b[0m\u001b[0m\n\u001b[0m",
      "\u001b[1;32m~\\anaconda3\\lib\\site-packages\\pandas\\util\\_decorators.py\u001b[0m in \u001b[0;36mwrapper\u001b[1;34m(*args, **kwargs)\u001b[0m\n\u001b[0;32m    309\u001b[0m                     \u001b[0mstacklevel\u001b[0m\u001b[1;33m=\u001b[0m\u001b[0mstacklevel\u001b[0m\u001b[1;33m,\u001b[0m\u001b[1;33m\u001b[0m\u001b[1;33m\u001b[0m\u001b[0m\n\u001b[0;32m    310\u001b[0m                 )\n\u001b[1;32m--> 311\u001b[1;33m             \u001b[1;32mreturn\u001b[0m \u001b[0mfunc\u001b[0m\u001b[1;33m(\u001b[0m\u001b[1;33m*\u001b[0m\u001b[0margs\u001b[0m\u001b[1;33m,\u001b[0m \u001b[1;33m**\u001b[0m\u001b[0mkwargs\u001b[0m\u001b[1;33m)\u001b[0m\u001b[1;33m\u001b[0m\u001b[1;33m\u001b[0m\u001b[0m\n\u001b[0m\u001b[0;32m    312\u001b[0m \u001b[1;33m\u001b[0m\u001b[0m\n\u001b[0;32m    313\u001b[0m         \u001b[1;32mreturn\u001b[0m \u001b[0mwrapper\u001b[0m\u001b[1;33m\u001b[0m\u001b[1;33m\u001b[0m\u001b[0m\n",
      "\u001b[1;32m~\\anaconda3\\lib\\site-packages\\pandas\\io\\parsers\\readers.py\u001b[0m in \u001b[0;36mread_csv\u001b[1;34m(filepath_or_buffer, sep, delimiter, header, names, index_col, usecols, squeeze, prefix, mangle_dupe_cols, dtype, engine, converters, true_values, false_values, skipinitialspace, skiprows, skipfooter, nrows, na_values, keep_default_na, na_filter, verbose, skip_blank_lines, parse_dates, infer_datetime_format, keep_date_col, date_parser, dayfirst, cache_dates, iterator, chunksize, compression, thousands, decimal, lineterminator, quotechar, quoting, doublequote, escapechar, comment, encoding, encoding_errors, dialect, error_bad_lines, warn_bad_lines, on_bad_lines, delim_whitespace, low_memory, memory_map, float_precision, storage_options)\u001b[0m\n\u001b[0;32m    676\u001b[0m     \u001b[0mkwds\u001b[0m\u001b[1;33m.\u001b[0m\u001b[0mupdate\u001b[0m\u001b[1;33m(\u001b[0m\u001b[0mkwds_defaults\u001b[0m\u001b[1;33m)\u001b[0m\u001b[1;33m\u001b[0m\u001b[1;33m\u001b[0m\u001b[0m\n\u001b[0;32m    677\u001b[0m \u001b[1;33m\u001b[0m\u001b[0m\n\u001b[1;32m--> 678\u001b[1;33m     \u001b[1;32mreturn\u001b[0m \u001b[0m_read\u001b[0m\u001b[1;33m(\u001b[0m\u001b[0mfilepath_or_buffer\u001b[0m\u001b[1;33m,\u001b[0m \u001b[0mkwds\u001b[0m\u001b[1;33m)\u001b[0m\u001b[1;33m\u001b[0m\u001b[1;33m\u001b[0m\u001b[0m\n\u001b[0m\u001b[0;32m    679\u001b[0m \u001b[1;33m\u001b[0m\u001b[0m\n\u001b[0;32m    680\u001b[0m \u001b[1;33m\u001b[0m\u001b[0m\n",
      "\u001b[1;32m~\\anaconda3\\lib\\site-packages\\pandas\\io\\parsers\\readers.py\u001b[0m in \u001b[0;36m_read\u001b[1;34m(filepath_or_buffer, kwds)\u001b[0m\n\u001b[0;32m    573\u001b[0m \u001b[1;33m\u001b[0m\u001b[0m\n\u001b[0;32m    574\u001b[0m     \u001b[1;31m# Create the parser.\u001b[0m\u001b[1;33m\u001b[0m\u001b[1;33m\u001b[0m\u001b[0m\n\u001b[1;32m--> 575\u001b[1;33m     \u001b[0mparser\u001b[0m \u001b[1;33m=\u001b[0m \u001b[0mTextFileReader\u001b[0m\u001b[1;33m(\u001b[0m\u001b[0mfilepath_or_buffer\u001b[0m\u001b[1;33m,\u001b[0m \u001b[1;33m**\u001b[0m\u001b[0mkwds\u001b[0m\u001b[1;33m)\u001b[0m\u001b[1;33m\u001b[0m\u001b[1;33m\u001b[0m\u001b[0m\n\u001b[0m\u001b[0;32m    576\u001b[0m \u001b[1;33m\u001b[0m\u001b[0m\n\u001b[0;32m    577\u001b[0m     \u001b[1;32mif\u001b[0m \u001b[0mchunksize\u001b[0m \u001b[1;32mor\u001b[0m \u001b[0miterator\u001b[0m\u001b[1;33m:\u001b[0m\u001b[1;33m\u001b[0m\u001b[1;33m\u001b[0m\u001b[0m\n",
      "\u001b[1;32m~\\anaconda3\\lib\\site-packages\\pandas\\io\\parsers\\readers.py\u001b[0m in \u001b[0;36m__init__\u001b[1;34m(self, f, engine, **kwds)\u001b[0m\n\u001b[0;32m    930\u001b[0m \u001b[1;33m\u001b[0m\u001b[0m\n\u001b[0;32m    931\u001b[0m         \u001b[0mself\u001b[0m\u001b[1;33m.\u001b[0m\u001b[0mhandles\u001b[0m\u001b[1;33m:\u001b[0m \u001b[0mIOHandles\u001b[0m \u001b[1;33m|\u001b[0m \u001b[1;32mNone\u001b[0m \u001b[1;33m=\u001b[0m \u001b[1;32mNone\u001b[0m\u001b[1;33m\u001b[0m\u001b[1;33m\u001b[0m\u001b[0m\n\u001b[1;32m--> 932\u001b[1;33m         \u001b[0mself\u001b[0m\u001b[1;33m.\u001b[0m\u001b[0m_engine\u001b[0m \u001b[1;33m=\u001b[0m \u001b[0mself\u001b[0m\u001b[1;33m.\u001b[0m\u001b[0m_make_engine\u001b[0m\u001b[1;33m(\u001b[0m\u001b[0mf\u001b[0m\u001b[1;33m,\u001b[0m \u001b[0mself\u001b[0m\u001b[1;33m.\u001b[0m\u001b[0mengine\u001b[0m\u001b[1;33m)\u001b[0m\u001b[1;33m\u001b[0m\u001b[1;33m\u001b[0m\u001b[0m\n\u001b[0m\u001b[0;32m    933\u001b[0m \u001b[1;33m\u001b[0m\u001b[0m\n\u001b[0;32m    934\u001b[0m     \u001b[1;32mdef\u001b[0m \u001b[0mclose\u001b[0m\u001b[1;33m(\u001b[0m\u001b[0mself\u001b[0m\u001b[1;33m)\u001b[0m\u001b[1;33m:\u001b[0m\u001b[1;33m\u001b[0m\u001b[1;33m\u001b[0m\u001b[0m\n",
      "\u001b[1;32m~\\anaconda3\\lib\\site-packages\\pandas\\io\\parsers\\readers.py\u001b[0m in \u001b[0;36m_make_engine\u001b[1;34m(self, f, engine)\u001b[0m\n\u001b[0;32m   1214\u001b[0m             \u001b[1;31m# \"Union[str, PathLike[str], ReadCsvBuffer[bytes], ReadCsvBuffer[str]]\"\u001b[0m\u001b[1;33m\u001b[0m\u001b[1;33m\u001b[0m\u001b[0m\n\u001b[0;32m   1215\u001b[0m             \u001b[1;31m# , \"str\", \"bool\", \"Any\", \"Any\", \"Any\", \"Any\", \"Any\"\u001b[0m\u001b[1;33m\u001b[0m\u001b[1;33m\u001b[0m\u001b[0m\n\u001b[1;32m-> 1216\u001b[1;33m             self.handles = get_handle(  # type: ignore[call-overload]\n\u001b[0m\u001b[0;32m   1217\u001b[0m                 \u001b[0mf\u001b[0m\u001b[1;33m,\u001b[0m\u001b[1;33m\u001b[0m\u001b[1;33m\u001b[0m\u001b[0m\n\u001b[0;32m   1218\u001b[0m                 \u001b[0mmode\u001b[0m\u001b[1;33m,\u001b[0m\u001b[1;33m\u001b[0m\u001b[1;33m\u001b[0m\u001b[0m\n",
      "\u001b[1;32m~\\anaconda3\\lib\\site-packages\\pandas\\io\\common.py\u001b[0m in \u001b[0;36mget_handle\u001b[1;34m(path_or_buf, mode, encoding, compression, memory_map, is_text, errors, storage_options)\u001b[0m\n\u001b[0;32m    784\u001b[0m         \u001b[1;32mif\u001b[0m \u001b[0mioargs\u001b[0m\u001b[1;33m.\u001b[0m\u001b[0mencoding\u001b[0m \u001b[1;32mand\u001b[0m \u001b[1;34m\"b\"\u001b[0m \u001b[1;32mnot\u001b[0m \u001b[1;32min\u001b[0m \u001b[0mioargs\u001b[0m\u001b[1;33m.\u001b[0m\u001b[0mmode\u001b[0m\u001b[1;33m:\u001b[0m\u001b[1;33m\u001b[0m\u001b[1;33m\u001b[0m\u001b[0m\n\u001b[0;32m    785\u001b[0m             \u001b[1;31m# Encoding\u001b[0m\u001b[1;33m\u001b[0m\u001b[1;33m\u001b[0m\u001b[0m\n\u001b[1;32m--> 786\u001b[1;33m             handle = open(\n\u001b[0m\u001b[0;32m    787\u001b[0m                 \u001b[0mhandle\u001b[0m\u001b[1;33m,\u001b[0m\u001b[1;33m\u001b[0m\u001b[1;33m\u001b[0m\u001b[0m\n\u001b[0;32m    788\u001b[0m                 \u001b[0mioargs\u001b[0m\u001b[1;33m.\u001b[0m\u001b[0mmode\u001b[0m\u001b[1;33m,\u001b[0m\u001b[1;33m\u001b[0m\u001b[1;33m\u001b[0m\u001b[0m\n",
      "\u001b[1;31mFileNotFoundError\u001b[0m: [Errno 2] No such file or directory: 'data/loc/gyeongbuk/1weather/경주시_날씨_2011~2019.csv'"
     ]
    }
   ],
   "source": [
    "tmp = pd.read_csv('data/loc/gyeongbuk/1weather/경주시_날씨_2011~2019.csv', encoding='cp949', header=None, skiprows=2)"
   ]
  },
  {
   "cell_type": "code",
   "execution_count": null,
   "id": "a57fa2cc-1053-4854-a8f1-1ea248513e38",
   "metadata": {},
   "outputs": [],
   "source": [
    "tmp.columns = ['년', '월', '평균기온 (℃)', '평균 최고기온 (℃)', '최고극값기온 (℃)', '평균 최저기온 (℃)', '최저극값기온 (℃)',\n",
    "       '강수량 (㎜)', '상대습도 (%)', '최소 상대습도 (%)', '평균 해면기압 (hPa)', '이슬점 온도 (℃)',\n",
    "       '평균 운량 (10%)', '일조시간 (h)', '최심신적설 (㎝)', '평균 풍속 (㎧)', '최대 풍속 (㎧)',\n",
    "       '최대 순간풍속 (㎧)']"
   ]
  },
  {
   "cell_type": "code",
   "execution_count": null,
   "id": "bb54515e-ac2f-4408-b205-6a08e8e565f9",
   "metadata": {},
   "outputs": [],
   "source": [
    "tmp.replace('-', np.nan, inplace=True)"
   ]
  },
  {
   "cell_type": "code",
   "execution_count": null,
   "id": "5691a05f-e5b4-4344-896f-e0cff1b174b1",
   "metadata": {
    "tags": []
   },
   "outputs": [],
   "source": [
    "tmp.isnull().sum()"
   ]
  },
  {
   "cell_type": "code",
   "execution_count": null,
   "id": "86ba18f1-590e-424a-97e0-d395e38d3922",
   "metadata": {},
   "outputs": [],
   "source": [
    "tmp.dropna(axis=1, inplace=True)"
   ]
  },
  {
   "cell_type": "code",
   "execution_count": null,
   "id": "e3d42960-f581-48b2-8f16-b272949bdc9c",
   "metadata": {},
   "outputs": [],
   "source": [
    "tmp['대지역'] = '경상북도'\n",
    "tmp['소지역'] = '경주시'"
   ]
  },
  {
   "cell_type": "code",
   "execution_count": null,
   "id": "b2827995-16b9-4ec1-87ce-8a84c7323e1d",
   "metadata": {
    "tags": []
   },
   "outputs": [],
   "source": [
    "tmp.columns"
   ]
  },
  {
   "cell_type": "markdown",
   "id": "b8d283a4-ca1c-4fa4-8d93-da6d981e9eb3",
   "metadata": {
    "tags": []
   },
   "source": [
    "## 통합처리 - 경북"
   ]
  },
  {
   "cell_type": "code",
   "execution_count": 14,
   "id": "f3408b65-1506-45d8-b1d7-00f3ac961ca8",
   "metadata": {},
   "outputs": [],
   "source": [
    "csvfiles = glob.glob('data/loc/gyeongbuk/1weather/*.csv')\n",
    "\n",
    "kb_weather = pd.DataFrame()\n",
    "loc = ['경주시', '구미시', '군위군', '김천시', '문경시', '봉화군', '상주시',\n",
    "       '성주군', '안동시', '영덕군', '영양군', '영주시', '영천시', '예천군',\n",
    "       '울진군', '의성군', '청도군', '청송군', '청송군', '칠곡군', '포항시']\n",
    "\n",
    "for idx, csvfile in enumerate(csvfiles):\n",
    "    tmp = pd.read_csv(csvfile, encoding='cp949', header=None, skiprows=2)\n",
    "    tmp.columns = ['년', '월', '평균기온 (℃)', '최고기온 (℃)', '최고극값기온 (℃)', '최저기온 (℃)', '최저극값기온 (℃)',\n",
    "       '강수량 (㎜)', '상대습도 (%)', '최소 상대습도 (%)', '평균 해면기압 (hPa)', '이슬점 온도 (℃)',\n",
    "       '평균 운량 (10%)', '일조시간 (h)', '최심신적설 (㎝)', '평균 풍속 (㎧)', '최대 풍속 (㎧)',\n",
    "       '최대 순간풍속 (㎧)']\n",
    "    tmp.replace('-', np.nan, inplace=True)\n",
    "    tmp['대지역'] = '경상북도'\n",
    "    tmp['소지역'] = loc[idx]\n",
    "    tmp = tmp[['년', '월', '대지역', '소지역', '평균기온 (℃)', '최고기온 (℃)', '최저기온 (℃)',\n",
    "       '강수량 (㎜)', '상대습도 (%)', '최소 상대습도 (%)', '일조시간 (h)', '평균 풍속 (㎧)', '최대 풍속 (㎧)']]\n",
    "    kb_weather = pd.concat([kb_weather, tmp])\n",
    "    \n",
    "kb_weather.reset_index(drop=True, inplace=True)"
   ]
  },
  {
   "cell_type": "markdown",
   "id": "2141cd9a-c183-48cf-a0d0-7824e5a70931",
   "metadata": {},
   "source": [
    "## 통합처리 - 충북충남"
   ]
  },
  {
   "cell_type": "code",
   "execution_count": 15,
   "id": "316a122b-97fb-473d-8b6c-f8859f4336b0",
   "metadata": {},
   "outputs": [],
   "source": [
    "csvfiles = glob.glob('data/loc/chung/1weather/*.csv')\n",
    "\n",
    "ch_weather = pd.DataFrame()\n",
    "loc1 = ['충청북도', '충청남도', '충청북도', '충청북도']\n",
    "loc2 = ['영동군', '예산군', '제천시', '충주시']\n",
    "\n",
    "for idx, csvfile in enumerate(csvfiles):\n",
    "    tmp = pd.read_csv(csvfile, encoding='cp949', header=None, skiprows=2)\n",
    "    tmp.columns = ['년', '월', '평균기온 (℃)', '최고기온 (℃)', '최고극값기온 (℃)', '최저기온 (℃)', '최저극값기온 (℃)',\n",
    "       '강수량 (㎜)', '상대습도 (%)', '최소 상대습도 (%)', '평균 해면기압 (hPa)', '이슬점 온도 (℃)',\n",
    "       '평균 운량 (10%)', '일조시간 (h)', '최심신적설 (㎝)', '평균 풍속 (㎧)', '최대 풍속 (㎧)',\n",
    "       '최대 순간풍속 (㎧)']\n",
    "    tmp.replace('-', np.nan, inplace=True)\n",
    "    tmp['대지역'] = loc1[idx]\n",
    "    tmp['소지역'] = loc2[idx]\n",
    "    tmp = tmp[['년', '월', '대지역', '소지역', '평균기온 (℃)', '최고기온 (℃)', '최저기온 (℃)',\n",
    "       '강수량 (㎜)', '상대습도 (%)', '최소 상대습도 (%)', '일조시간 (h)', '평균 풍속 (㎧)', '최대 풍속 (㎧)']]\n",
    "    ch_weather = pd.concat([ch_weather, tmp])\n",
    "\n",
    "kb_ch_weather = pd.concat([kb_weather, ch_weather])\n",
    "kb_ch_weather.reset_index(drop=True, inplace=True)"
   ]
  },
  {
   "cell_type": "code",
   "execution_count": 16,
   "id": "c7290a97-dac9-465d-a704-a2c58564da7b",
   "metadata": {},
   "outputs": [],
   "source": [
    "kb_ch_weather.to_csv('data/done/weather_loc.csv', encoding='cp949', index=False)"
   ]
  },
  {
   "cell_type": "code",
   "execution_count": 17,
   "id": "80c99895-c54f-45c5-b3f4-b310c33976b6",
   "metadata": {},
   "outputs": [
    {
     "data": {
      "text/html": [
       "<div>\n",
       "<style scoped>\n",
       "    .dataframe tbody tr th:only-of-type {\n",
       "        vertical-align: middle;\n",
       "    }\n",
       "\n",
       "    .dataframe tbody tr th {\n",
       "        vertical-align: top;\n",
       "    }\n",
       "\n",
       "    .dataframe thead th {\n",
       "        text-align: right;\n",
       "    }\n",
       "</style>\n",
       "<table border=\"1\" class=\"dataframe\">\n",
       "  <thead>\n",
       "    <tr style=\"text-align: right;\">\n",
       "      <th></th>\n",
       "      <th>년</th>\n",
       "      <th>평균기온 (℃)</th>\n",
       "      <th>최고기온 (℃)</th>\n",
       "      <th>최저기온 (℃)</th>\n",
       "      <th>강수량 (㎜)</th>\n",
       "    </tr>\n",
       "  </thead>\n",
       "  <tbody>\n",
       "    <tr>\n",
       "      <th>count</th>\n",
       "      <td>1590.000000</td>\n",
       "      <td>1590.000000</td>\n",
       "      <td>1590.000000</td>\n",
       "      <td>1590.00000</td>\n",
       "      <td>1590.000000</td>\n",
       "    </tr>\n",
       "    <tr>\n",
       "      <th>mean</th>\n",
       "      <td>2015.437107</td>\n",
       "      <td>18.643711</td>\n",
       "      <td>24.565535</td>\n",
       "      <td>13.49761</td>\n",
       "      <td>125.043836</td>\n",
       "    </tr>\n",
       "    <tr>\n",
       "      <th>std</th>\n",
       "      <td>2.774650</td>\n",
       "      <td>6.656833</td>\n",
       "      <td>6.104444</td>\n",
       "      <td>7.56397</td>\n",
       "      <td>102.644929</td>\n",
       "    </tr>\n",
       "    <tr>\n",
       "      <th>min</th>\n",
       "      <td>2010.000000</td>\n",
       "      <td>-7.900000</td>\n",
       "      <td>4.900000</td>\n",
       "      <td>-7.10000</td>\n",
       "      <td>0.900000</td>\n",
       "    </tr>\n",
       "    <tr>\n",
       "      <th>25%</th>\n",
       "      <td>2013.000000</td>\n",
       "      <td>13.600000</td>\n",
       "      <td>20.600000</td>\n",
       "      <td>7.32500</td>\n",
       "      <td>53.350000</td>\n",
       "    </tr>\n",
       "    <tr>\n",
       "      <th>50%</th>\n",
       "      <td>2015.000000</td>\n",
       "      <td>20.200000</td>\n",
       "      <td>26.200000</td>\n",
       "      <td>15.40000</td>\n",
       "      <td>96.800000</td>\n",
       "    </tr>\n",
       "    <tr>\n",
       "      <th>75%</th>\n",
       "      <td>2018.000000</td>\n",
       "      <td>23.875000</td>\n",
       "      <td>29.100000</td>\n",
       "      <td>20.00000</td>\n",
       "      <td>160.650000</td>\n",
       "    </tr>\n",
       "    <tr>\n",
       "      <th>max</th>\n",
       "      <td>2020.000000</td>\n",
       "      <td>29.000000</td>\n",
       "      <td>37.600000</td>\n",
       "      <td>25.20000</td>\n",
       "      <td>685.800000</td>\n",
       "    </tr>\n",
       "  </tbody>\n",
       "</table>\n",
       "</div>"
      ],
      "text/plain": [
       "                 년     평균기온 (℃)     최고기온 (℃)    최저기온 (℃)      강수량 (㎜)\n",
       "count  1590.000000  1590.000000  1590.000000  1590.00000  1590.000000\n",
       "mean   2015.437107    18.643711    24.565535    13.49761   125.043836\n",
       "std       2.774650     6.656833     6.104444     7.56397   102.644929\n",
       "min    2010.000000    -7.900000     4.900000    -7.10000     0.900000\n",
       "25%    2013.000000    13.600000    20.600000     7.32500    53.350000\n",
       "50%    2015.000000    20.200000    26.200000    15.40000    96.800000\n",
       "75%    2018.000000    23.875000    29.100000    20.00000   160.650000\n",
       "max    2020.000000    29.000000    37.600000    25.20000   685.800000"
      ]
     },
     "execution_count": 17,
     "metadata": {},
     "output_type": "execute_result"
    }
   ],
   "source": [
    "kb_ch_weather.describe()"
   ]
  },
  {
   "cell_type": "code",
   "execution_count": 18,
   "id": "c76c26cd-c11c-4936-b2df-31777a6b16ba",
   "metadata": {},
   "outputs": [
    {
     "data": {
      "text/plain": [
       "년                0\n",
       "월                0\n",
       "대지역              0\n",
       "소지역              0\n",
       "평균기온 (℃)         0\n",
       "최고기온 (℃)         0\n",
       "최저기온 (℃)         0\n",
       "강수량 (㎜)          0\n",
       "상대습도 (%)       121\n",
       "최소 상대습도 (%)    121\n",
       "일조시간 (h)       121\n",
       "평균 풍속 (㎧)       21\n",
       "최대 풍속 (㎧)      107\n",
       "dtype: int64"
      ]
     },
     "execution_count": 18,
     "metadata": {},
     "output_type": "execute_result"
    }
   ],
   "source": [
    "kb_ch_weather.isnull().sum()"
   ]
  },
  {
   "cell_type": "code",
   "execution_count": null,
   "id": "eb2233fe-2ea6-4fed-bb17-1e4a1e14efe9",
   "metadata": {},
   "outputs": [],
   "source": []
  }
 ],
 "metadata": {
  "kernelspec": {
   "display_name": "Python 3 (ipykernel)",
   "language": "python",
   "name": "python3"
  },
  "language_info": {
   "codemirror_mode": {
    "name": "ipython",
    "version": 3
   },
   "file_extension": ".py",
   "mimetype": "text/x-python",
   "name": "python",
   "nbconvert_exporter": "python",
   "pygments_lexer": "ipython3",
   "version": "3.9.13"
  }
 },
 "nbformat": 4,
 "nbformat_minor": 5
}
